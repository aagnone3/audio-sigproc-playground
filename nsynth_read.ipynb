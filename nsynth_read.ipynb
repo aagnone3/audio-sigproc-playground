{
 "cells": [
  {
   "cell_type": "code",
   "execution_count": 16,
   "metadata": {},
   "outputs": [],
   "source": [
    "import os\n",
    "from os import path\n",
    "import numpy as np\n",
    "import tensorflow as tf\n",
    "import matplotlib.pyplot as plt\n",
    "import librosa\n",
    "from magenta.models.nsynth.reader import NSynthDataset\n",
    "\n",
    "%matplotlib inline"
   ]
  },
  {
   "cell_type": "code",
   "execution_count": 3,
   "metadata": {},
   "outputs": [
    {
     "name": "stdout",
     "output_type": "stream",
     "text": [
      "corrupted\t\t maps_music_transcription  nsynth\turbansound8k\n",
      "freesound-audio-tagging  midi_classic_piano\t   oxford_pets\tvoices\n",
      "gtzan_genre\t\t million_song_dataset\t   sitw\t\tvoxceleb\n",
      "gtzan_music_speech\t mnist\t\t\t   speech\tvoxforge\n",
      "maestro\t\t\t music_net\t\t   text\t\tyoutube8m\n"
     ]
    }
   ],
   "source": [
    "!ls /corpora"
   ]
  },
  {
   "cell_type": "code",
   "execution_count": 4,
   "metadata": {},
   "outputs": [],
   "source": [
    "train_record_fn = \"/corpora/nsynth/nsynth-train.tfrecord\"\n",
    "assert path.exists(train_record_fn)"
   ]
  },
  {
   "cell_type": "code",
   "execution_count": 18,
   "metadata": {},
   "outputs": [
    {
     "data": {
      "text/plain": [
       "{'audio': <tf.Tensor 'ParseSingleExample_1/ParseSingleExample:0' shape=(64000,) dtype=float32>,\n",
       " 'instrument_family': <tf.Tensor 'ParseSingleExample_1/ParseSingleExample:1' shape=(1,) dtype=int64>,\n",
       " 'instrument_source': <tf.Tensor 'ParseSingleExample_1/ParseSingleExample:2' shape=(1,) dtype=int64>,\n",
       " 'note_str': <tf.Tensor 'ParseSingleExample_1/ParseSingleExample:3' shape=() dtype=string>,\n",
       " 'pitch': <tf.Tensor 'ParseSingleExample_1/ParseSingleExample:4' shape=(1,) dtype=int64>,\n",
       " 'qualities': <tf.Tensor 'ParseSingleExample_1/ParseSingleExample:5' shape=(10,) dtype=int64>,\n",
       " 'velocity': <tf.Tensor 'ParseSingleExample_1/ParseSingleExample:6' shape=(1,) dtype=int64>}"
      ]
     },
     "execution_count": 18,
     "metadata": {},
     "output_type": "execute_result"
    }
   ],
   "source": [
    "ds = NSynthDataset(train_record_fn, is_training=True)\n",
    "batch = ds.get_example(1)\n",
    "batch"
   ]
  },
  {
   "cell_type": "code",
   "execution_count": 19,
   "metadata": {},
   "outputs": [
    {
     "name": "stdout",
     "output_type": "stream",
     "text": [
      "['instrument_family', 'instrument_source', 'note_str', 'qualities', 'pitch', 'velocity', 'audio']\n",
      "INFO:tensorflow:Error reported to Coordinator: <class 'tensorflow.python.framework.errors_impl.CancelledError'>, Run call was cancelled\n"
     ]
    }
   ],
   "source": [
    "with tf.Session(config=tf.ConfigProto(device_count={'GPU': 0})) as sess:\n",
    "    coord = tf.train.Coordinator()\n",
    "    threads = tf.train.start_queue_runners(sess=sess, coord=coord)\n",
    "\n",
    "    batch = sess.run(batch)\n",
    "    print(batch.keys())"
   ]
  },
  {
   "cell_type": "code",
   "execution_count": null,
   "metadata": {},
   "outputs": [],
   "source": []
  }
 ],
 "metadata": {
  "kernelspec": {
   "display_name": "Python 2",
   "language": "python",
   "name": "python2"
  },
  "language_info": {
   "codemirror_mode": {
    "name": "ipython",
    "version": 2
   },
   "file_extension": ".py",
   "mimetype": "text/x-python",
   "name": "python",
   "nbconvert_exporter": "python",
   "pygments_lexer": "ipython2",
   "version": "2.7.12"
  }
 },
 "nbformat": 4,
 "nbformat_minor": 2
}
