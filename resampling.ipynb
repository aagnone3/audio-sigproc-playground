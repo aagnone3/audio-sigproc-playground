{
 "cells": [
  {
   "cell_type": "code",
   "execution_count": 1,
   "metadata": {
    "collapsed": true
   },
   "outputs": [],
   "source": [
    "# ipython directives\n",
    "%matplotlib inline"
   ]
  },
  {
   "cell_type": "code",
   "execution_count": 2,
   "metadata": {
    "collapsed": false
   },
   "outputs": [
    {
     "ename": "ImportError",
     "evalue": "No module named essentia.standard",
     "output_type": "error",
     "traceback": [
      "\u001b[0;31m---------------------------------------------------------------------------\u001b[0m",
      "\u001b[0;31mImportError\u001b[0m                               Traceback (most recent call last)",
      "\u001b[0;32m<ipython-input-2-213eb6f1f13a>\u001b[0m in \u001b[0;36m<module>\u001b[0;34m()\u001b[0m\n\u001b[1;32m      1\u001b[0m \u001b[0;31m# high-level imports\u001b[0m\u001b[0;34m\u001b[0m\u001b[0;34m\u001b[0m\u001b[0m\n\u001b[0;32m----> 2\u001b[0;31m \u001b[0;32mfrom\u001b[0m \u001b[0messentia\u001b[0m\u001b[0;34m.\u001b[0m\u001b[0mstandard\u001b[0m \u001b[0;32mimport\u001b[0m \u001b[0mResample\u001b[0m\u001b[0;34m,\u001b[0m \u001b[0mMonoLoader\u001b[0m\u001b[0;34m,\u001b[0m \u001b[0mMonoWriter\u001b[0m\u001b[0;34m\u001b[0m\u001b[0m\n\u001b[0m\u001b[1;32m      3\u001b[0m \u001b[0;32mimport\u001b[0m \u001b[0mnumpy\u001b[0m \u001b[0;32mas\u001b[0m \u001b[0mnp\u001b[0m\u001b[0;34m\u001b[0m\u001b[0m\n\u001b[1;32m      4\u001b[0m \u001b[0;32mfrom\u001b[0m \u001b[0mscipy\u001b[0m\u001b[0;34m.\u001b[0m\u001b[0mio\u001b[0m\u001b[0;34m.\u001b[0m\u001b[0mwavfile\u001b[0m \u001b[0;32mimport\u001b[0m \u001b[0mread\u001b[0m \u001b[0;32mas\u001b[0m \u001b[0mwavread\u001b[0m\u001b[0;34m,\u001b[0m \u001b[0mwrite\u001b[0m \u001b[0;32mas\u001b[0m \u001b[0mwavwrite\u001b[0m\u001b[0;34m\u001b[0m\u001b[0m\n\u001b[1;32m      5\u001b[0m \u001b[0;32mfrom\u001b[0m \u001b[0mmatplotlib\u001b[0m \u001b[0;32mimport\u001b[0m \u001b[0mpyplot\u001b[0m \u001b[0;32mas\u001b[0m \u001b[0mplt\u001b[0m\u001b[0;34m\u001b[0m\u001b[0m\n",
      "\u001b[0;31mImportError\u001b[0m: No module named essentia.standard"
     ]
    }
   ],
   "source": [
    "from essentia.standard import Resample, MonoLoader, MonoWriter\n",
    "import numpy as np\n",
    "from scipy.io.wavfile import read as wavread, write as wavwrite\n",
    "from matplotlib import pyplot as plt\n",
    "import pyaudio\n",
    "import wave\n",
    "from scipy import signal\n",
    "from scipy.interpolate import interp1d\n",
    "from numpy.fft import fft\n",
    "\n",
    "%matplotlib inline"
   ]
  },
  {
   "cell_type": "code",
   "execution_count": null,
   "metadata": {
    "collapsed": false
   },
   "outputs": [],
   "source": [
    "# To begin, let's load in some original speech and define some constants.\n",
    "FILE_NAME = \"4.wav\"\n",
    "FILE_PATH = \"Data/wave/{}\".format(FILE_NAME)\n",
    "NFFT = 1024\n",
    "[fs, speech] = wavread(FILE_PATH)"
   ]
  },
  {
   "cell_type": "code",
   "execution_count": null,
   "metadata": {
    "collapsed": false
   },
   "outputs": [],
   "source": [
    "# Take a look at the unaltered speech in the time and frequency domains while it plays.\n",
    "# Notice the higher frequencies present during fricatives.\n",
    "observe_signal(speech, nfft=NFFT, \"Simple Speech Signal\")\n",
    "play_audio(FILE_PATH)"
   ]
  },
  {
   "cell_type": "code",
   "execution_count": null,
   "metadata": {
    "collapsed": false
   },
   "outputs": [],
   "source": [
    "# Now let's decimate the signal and see what happens.\n",
    "decimation_factor = 2\n",
    "dec_fs = fs / decimation_factor\n",
    "decimated_speech = signal.decimate(speech, decimation_factor).astype(\"int16\")\n",
    "\n",
    "# Take a look at the changes.\n",
    "observe_signal(decimated_speech, \"Decimated Speech Signal (M = {})\".format(decimation_factor), fs=dec_fs)\n",
    "\n",
    "# Save off the audio and play it back.\n",
    "dec_file_name = \"decimated_{}\".format(FILE_NAME)\n",
    "wavwrite(dec_file_name, dec_fs, decimated_speech)\n",
    "play_audio(dec_file_name)"
   ]
  },
  {
   "cell_type": "code",
   "execution_count": null,
   "metadata": {
    "collapsed": false
   },
   "outputs": [],
   "source": [
    "# Now let's resample the speech to 6.4 kHz, the transmission rate used over the public switched telephone network.\n",
    "# Among other methods, we can perform this resampling by interpolation by a factor of 2 followed by\n",
    "# decimation by a factor of 5.\n",
    "interpolated = signal.resample(speech, len(speech)*2).astype(\"int16\")\n",
    "phone_speech = signal.decimate(interpolated, 5).astype(\"int16\")\n",
    "phone_fs = 6400\n"
   ]
  },
  {
   "cell_type": "code",
   "execution_count": null,
   "metadata": {
    "collapsed": false
   },
   "outputs": [],
   "source": [
    "# Observe the changes in the time and frequency domains.\n",
    "observe_signal(phone_speech, \"Speech Signal Resampled for Telephone Transmission\", fs=phone_fs)\n",
    "\n",
    "# Save off the resampled speech and play it back.\n",
    "new_file_name = \"phone_{}\".format(FILE_NAME)\n",
    "wavwrite(new_file_name, phone_fs, phone_speech)\n",
    "play_audio(new_file_name)"
   ]
  },
  {
   "cell_type": "code",
   "execution_count": null,
   "metadata": {
    "collapsed": false
   },
   "outputs": [],
   "source": [
    "# Observe the difference in samples due to the change in sampling rate, while the duration remains unchanged.\n",
    "original_duration = len(speech) / fs\n",
    "resampled_duration = len(phone_speech) / phone_fs\n",
    "resampled_signal_length = resampled_duration * phone_fs\n",
    "print \"Original Speech: {}s, {} samples @ {} Hz\".format(original_duration, len(speech), fs)\n",
    "print \"Resampled Speech: {}s, {} samples @ {} Hz\".format(resampled_duration, len(phone_speech), phone_fs)"
   ]
  },
  {
   "cell_type": "code",
   "execution_count": null,
   "metadata": {
    "collapsed": true
   },
   "outputs": [],
   "source": []
  }
 ],
 "metadata": {
  "anaconda-cloud": {},
  "kernelspec": {
   "display_name": "Python [default]",
   "language": "python",
   "name": "python2"
  },
  "language_info": {
   "codemirror_mode": {
    "name": "ipython",
    "version": 2
   },
   "file_extension": ".py",
   "mimetype": "text/x-python",
   "name": "python",
   "nbconvert_exporter": "python",
   "pygments_lexer": "ipython2",
   "version": "2.7.12"
  }
 },
 "nbformat": 4,
 "nbformat_minor": 0
}
